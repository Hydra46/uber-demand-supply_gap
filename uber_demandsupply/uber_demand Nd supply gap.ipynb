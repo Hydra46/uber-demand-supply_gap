{
 "cells": [
  {
   "cell_type": "code",
   "execution_count": 1,
   "id": "134b96f8",
   "metadata": {},
   "outputs": [],
   "source": [
    "import numpy as np \n",
    "import pandas as pd\n",
    "import matplotlib.pyplot as plt\n",
    "import seaborn as sns\n",
    "import datetime as dt\n",
    "import warnings\n",
    "warnings.filterwarnings('ignore')\n",
    "import calendar as cal\n"
   ]
  },
  {
   "cell_type": "code",
   "execution_count": 2,
   "id": "8c43185a",
   "metadata": {},
   "outputs": [
    {
     "name": "stdout",
     "output_type": "stream",
     "text": [
      "Note: you may need to restart the kernel to use updated packages.\n"
     ]
    },
    {
     "name": "stderr",
     "output_type": "stream",
     "text": [
      "ERROR: Could not find a version that satisfies the requirement warning (from versions: none)\n",
      "ERROR: No matching distribution found for warning\n",
      "\n",
      "[notice] A new release of pip available: 22.3 -> 23.2.1\n",
      "[notice] To update, run: python.exe -m pip install --upgrade pip\n"
     ]
    }
   ],
   "source": [
    "pip install warning"
   ]
  },
  {
   "cell_type": "markdown",
   "id": "19a17de2",
   "metadata": {},
   "source": [
    "##  Data Sourcing"
   ]
  },
  {
   "cell_type": "code",
   "execution_count": 3,
   "id": "75f6347c",
   "metadata": {},
   "outputs": [],
   "source": [
    "df = pd.read_csv('Uber Request Data.csv')"
   ]
  },
  {
   "cell_type": "code",
   "execution_count": 4,
   "id": "edbe2cf3",
   "metadata": {},
   "outputs": [
    {
     "name": "stdout",
     "output_type": "stream",
     "text": [
      "<class 'pandas.core.frame.DataFrame'>\n",
      "RangeIndex: 6745 entries, 0 to 6744\n",
      "Data columns (total 6 columns):\n",
      " #   Column             Non-Null Count  Dtype  \n",
      "---  ------             --------------  -----  \n",
      " 0   Request id         6745 non-null   int64  \n",
      " 1   Pickup point       6745 non-null   object \n",
      " 2   Driver id          4095 non-null   float64\n",
      " 3   Status             6745 non-null   object \n",
      " 4   Request timestamp  6745 non-null   object \n",
      " 5   Drop timestamp     2831 non-null   object \n",
      "dtypes: float64(1), int64(1), object(4)\n",
      "memory usage: 316.3+ KB\n"
     ]
    },
    {
     "data": {
      "text/html": [
       "<div>\n",
       "<style scoped>\n",
       "    .dataframe tbody tr th:only-of-type {\n",
       "        vertical-align: middle;\n",
       "    }\n",
       "\n",
       "    .dataframe tbody tr th {\n",
       "        vertical-align: top;\n",
       "    }\n",
       "\n",
       "    .dataframe thead th {\n",
       "        text-align: right;\n",
       "    }\n",
       "</style>\n",
       "<table border=\"1\" class=\"dataframe\">\n",
       "  <thead>\n",
       "    <tr style=\"text-align: right;\">\n",
       "      <th></th>\n",
       "      <th>Request id</th>\n",
       "      <th>Pickup point</th>\n",
       "      <th>Driver id</th>\n",
       "      <th>Status</th>\n",
       "      <th>Request timestamp</th>\n",
       "      <th>Drop timestamp</th>\n",
       "    </tr>\n",
       "  </thead>\n",
       "  <tbody>\n",
       "    <tr>\n",
       "      <th>0</th>\n",
       "      <td>619</td>\n",
       "      <td>Airport</td>\n",
       "      <td>1.0</td>\n",
       "      <td>Trip Completed</td>\n",
       "      <td>11/7/2016 11:51</td>\n",
       "      <td>11/7/2016 13:00</td>\n",
       "    </tr>\n",
       "    <tr>\n",
       "      <th>1</th>\n",
       "      <td>867</td>\n",
       "      <td>Airport</td>\n",
       "      <td>1.0</td>\n",
       "      <td>Trip Completed</td>\n",
       "      <td>11/7/2016 17:57</td>\n",
       "      <td>11/7/2016 18:47</td>\n",
       "    </tr>\n",
       "    <tr>\n",
       "      <th>2</th>\n",
       "      <td>1807</td>\n",
       "      <td>City</td>\n",
       "      <td>1.0</td>\n",
       "      <td>Trip Completed</td>\n",
       "      <td>12/7/2016 9:17</td>\n",
       "      <td>12/7/2016 9:58</td>\n",
       "    </tr>\n",
       "    <tr>\n",
       "      <th>3</th>\n",
       "      <td>2532</td>\n",
       "      <td>Airport</td>\n",
       "      <td>1.0</td>\n",
       "      <td>Trip Completed</td>\n",
       "      <td>12/7/2016 21:08</td>\n",
       "      <td>12/7/2016 22:03</td>\n",
       "    </tr>\n",
       "    <tr>\n",
       "      <th>4</th>\n",
       "      <td>3112</td>\n",
       "      <td>City</td>\n",
       "      <td>1.0</td>\n",
       "      <td>Trip Completed</td>\n",
       "      <td>13-07-2016 08:33:16</td>\n",
       "      <td>13-07-2016 09:25:47</td>\n",
       "    </tr>\n",
       "  </tbody>\n",
       "</table>\n",
       "</div>"
      ],
      "text/plain": [
       "   Request id Pickup point  Driver id          Status    Request timestamp  \\\n",
       "0         619      Airport        1.0  Trip Completed      11/7/2016 11:51   \n",
       "1         867      Airport        1.0  Trip Completed      11/7/2016 17:57   \n",
       "2        1807         City        1.0  Trip Completed       12/7/2016 9:17   \n",
       "3        2532      Airport        1.0  Trip Completed      12/7/2016 21:08   \n",
       "4        3112         City        1.0  Trip Completed  13-07-2016 08:33:16   \n",
       "\n",
       "        Drop timestamp  \n",
       "0      11/7/2016 13:00  \n",
       "1      11/7/2016 18:47  \n",
       "2       12/7/2016 9:58  \n",
       "3      12/7/2016 22:03  \n",
       "4  13-07-2016 09:25:47  "
      ]
     },
     "execution_count": 4,
     "metadata": {},
     "output_type": "execute_result"
    }
   ],
   "source": [
    "df.describe()\n",
    "df.shape\n",
    "df.info()\n",
    "df.head()"
   ]
  },
  {
   "cell_type": "code",
   "execution_count": 5,
   "id": "a0423d72",
   "metadata": {},
   "outputs": [],
   "source": [
    "#replacing column name with '_'#\n",
    "df.columns = df.columns.str.replace(' ','_')"
   ]
  },
  {
   "cell_type": "code",
   "execution_count": 6,
   "id": "77f34a12",
   "metadata": {},
   "outputs": [
    {
     "data": {
      "text/html": [
       "<div>\n",
       "<style scoped>\n",
       "    .dataframe tbody tr th:only-of-type {\n",
       "        vertical-align: middle;\n",
       "    }\n",
       "\n",
       "    .dataframe tbody tr th {\n",
       "        vertical-align: top;\n",
       "    }\n",
       "\n",
       "    .dataframe thead th {\n",
       "        text-align: right;\n",
       "    }\n",
       "</style>\n",
       "<table border=\"1\" class=\"dataframe\">\n",
       "  <thead>\n",
       "    <tr style=\"text-align: right;\">\n",
       "      <th></th>\n",
       "      <th>Request_id</th>\n",
       "      <th>Pickup_point</th>\n",
       "      <th>Driver_id</th>\n",
       "      <th>Status</th>\n",
       "      <th>Request_timestamp</th>\n",
       "      <th>Drop_timestamp</th>\n",
       "    </tr>\n",
       "  </thead>\n",
       "  <tbody>\n",
       "    <tr>\n",
       "      <th>0</th>\n",
       "      <td>619</td>\n",
       "      <td>Airport</td>\n",
       "      <td>1.0</td>\n",
       "      <td>Trip Completed</td>\n",
       "      <td>11/7/2016 11:51</td>\n",
       "      <td>11/7/2016 13:00</td>\n",
       "    </tr>\n",
       "    <tr>\n",
       "      <th>1</th>\n",
       "      <td>867</td>\n",
       "      <td>Airport</td>\n",
       "      <td>1.0</td>\n",
       "      <td>Trip Completed</td>\n",
       "      <td>11/7/2016 17:57</td>\n",
       "      <td>11/7/2016 18:47</td>\n",
       "    </tr>\n",
       "    <tr>\n",
       "      <th>2</th>\n",
       "      <td>1807</td>\n",
       "      <td>City</td>\n",
       "      <td>1.0</td>\n",
       "      <td>Trip Completed</td>\n",
       "      <td>12/7/2016 9:17</td>\n",
       "      <td>12/7/2016 9:58</td>\n",
       "    </tr>\n",
       "    <tr>\n",
       "      <th>3</th>\n",
       "      <td>2532</td>\n",
       "      <td>Airport</td>\n",
       "      <td>1.0</td>\n",
       "      <td>Trip Completed</td>\n",
       "      <td>12/7/2016 21:08</td>\n",
       "      <td>12/7/2016 22:03</td>\n",
       "    </tr>\n",
       "    <tr>\n",
       "      <th>4</th>\n",
       "      <td>3112</td>\n",
       "      <td>City</td>\n",
       "      <td>1.0</td>\n",
       "      <td>Trip Completed</td>\n",
       "      <td>13-07-2016 08:33:16</td>\n",
       "      <td>13-07-2016 09:25:47</td>\n",
       "    </tr>\n",
       "  </tbody>\n",
       "</table>\n",
       "</div>"
      ],
      "text/plain": [
       "   Request_id Pickup_point  Driver_id          Status    Request_timestamp  \\\n",
       "0         619      Airport        1.0  Trip Completed      11/7/2016 11:51   \n",
       "1         867      Airport        1.0  Trip Completed      11/7/2016 17:57   \n",
       "2        1807         City        1.0  Trip Completed       12/7/2016 9:17   \n",
       "3        2532      Airport        1.0  Trip Completed      12/7/2016 21:08   \n",
       "4        3112         City        1.0  Trip Completed  13-07-2016 08:33:16   \n",
       "\n",
       "        Drop_timestamp  \n",
       "0      11/7/2016 13:00  \n",
       "1      11/7/2016 18:47  \n",
       "2       12/7/2016 9:58  \n",
       "3      12/7/2016 22:03  \n",
       "4  13-07-2016 09:25:47  "
      ]
     },
     "execution_count": 6,
     "metadata": {},
     "output_type": "execute_result"
    }
   ],
   "source": [
    "df.head()"
   ]
  },
  {
   "cell_type": "code",
   "execution_count": 7,
   "id": "a46ce582",
   "metadata": {},
   "outputs": [
    {
     "data": {
      "text/plain": [
       "0"
      ]
     },
     "execution_count": 7,
     "metadata": {},
     "output_type": "execute_result"
    }
   ],
   "source": [
    "#checking for duplicate rows\n",
    "df.duplicated (subset='Request_id').sum()"
   ]
  },
  {
   "cell_type": "code",
   "execution_count": 8,
   "id": "86d82019",
   "metadata": {},
   "outputs": [
    {
     "data": {
      "text/plain": [
       "array(['Airport', 'City'], dtype=object)"
      ]
     },
     "execution_count": 8,
     "metadata": {},
     "output_type": "execute_result"
    }
   ],
   "source": [
    "#checing for any spelling mistake in pickup_point\n",
    "df['Pickup_point'].unique()"
   ]
  },
  {
   "cell_type": "code",
   "execution_count": 9,
   "id": "bc3e022a",
   "metadata": {},
   "outputs": [
    {
     "data": {
      "text/plain": [
       "array(['Trip Completed', 'Cancelled', 'No Cars Available'], dtype=object)"
      ]
     },
     "execution_count": 9,
     "metadata": {},
     "output_type": "execute_result"
    }
   ],
   "source": [
    "df['Status'].unique()#spelling check in status col"
   ]
  },
  {
   "cell_type": "code",
   "execution_count": 10,
   "id": "4d8960b3",
   "metadata": {},
   "outputs": [
    {
     "data": {
      "text/plain": [
       "Request_id              0\n",
       "Pickup_point            0\n",
       "Driver_id            2650\n",
       "Status                  0\n",
       "Request_timestamp       0\n",
       "Drop_timestamp       3914\n",
       "dtype: int64"
      ]
     },
     "execution_count": 10,
     "metadata": {},
     "output_type": "execute_result"
    }
   ],
   "source": [
    "df.isnull().sum()#its look like driver_id and drop_timestamp have null values"
   ]
  },
  {
   "cell_type": "markdown",
   "id": "1b095a2a",
   "metadata": {},
   "source": [
    "## Data prepartion "
   ]
  },
  {
   "cell_type": "code",
   "execution_count": 11,
   "id": "0f141d44",
   "metadata": {},
   "outputs": [
    {
     "data": {
      "text/html": [
       "<div>\n",
       "<style scoped>\n",
       "    .dataframe tbody tr th:only-of-type {\n",
       "        vertical-align: middle;\n",
       "    }\n",
       "\n",
       "    .dataframe tbody tr th {\n",
       "        vertical-align: top;\n",
       "    }\n",
       "\n",
       "    .dataframe thead th {\n",
       "        text-align: right;\n",
       "    }\n",
       "</style>\n",
       "<table border=\"1\" class=\"dataframe\">\n",
       "  <thead>\n",
       "    <tr style=\"text-align: right;\">\n",
       "      <th></th>\n",
       "      <th>Request_id</th>\n",
       "      <th>Pickup_point</th>\n",
       "      <th>Driver_id</th>\n",
       "      <th>Status</th>\n",
       "      <th>Request_timestamp</th>\n",
       "      <th>Drop_timestamp</th>\n",
       "      <th>request_date_time</th>\n",
       "      <th>drop_date_time</th>\n",
       "    </tr>\n",
       "  </thead>\n",
       "  <tbody>\n",
       "    <tr>\n",
       "      <th>0</th>\n",
       "      <td>619</td>\n",
       "      <td>Airport</td>\n",
       "      <td>1.0</td>\n",
       "      <td>Trip Completed</td>\n",
       "      <td>11/7/2016 11:51</td>\n",
       "      <td>11/7/2016 13:00</td>\n",
       "      <td>2016-07-11 11:51:00</td>\n",
       "      <td>2016-07-11 13:00:00</td>\n",
       "    </tr>\n",
       "    <tr>\n",
       "      <th>1</th>\n",
       "      <td>867</td>\n",
       "      <td>Airport</td>\n",
       "      <td>1.0</td>\n",
       "      <td>Trip Completed</td>\n",
       "      <td>11/7/2016 17:57</td>\n",
       "      <td>11/7/2016 18:47</td>\n",
       "      <td>2016-07-11 17:57:00</td>\n",
       "      <td>2016-07-11 18:47:00</td>\n",
       "    </tr>\n",
       "    <tr>\n",
       "      <th>2</th>\n",
       "      <td>1807</td>\n",
       "      <td>City</td>\n",
       "      <td>1.0</td>\n",
       "      <td>Trip Completed</td>\n",
       "      <td>12/7/2016 9:17</td>\n",
       "      <td>12/7/2016 9:58</td>\n",
       "      <td>2016-07-12 09:17:00</td>\n",
       "      <td>2016-07-12 09:58:00</td>\n",
       "    </tr>\n",
       "    <tr>\n",
       "      <th>3</th>\n",
       "      <td>2532</td>\n",
       "      <td>Airport</td>\n",
       "      <td>1.0</td>\n",
       "      <td>Trip Completed</td>\n",
       "      <td>12/7/2016 21:08</td>\n",
       "      <td>12/7/2016 22:03</td>\n",
       "      <td>2016-07-12 21:08:00</td>\n",
       "      <td>2016-07-12 22:03:00</td>\n",
       "    </tr>\n",
       "    <tr>\n",
       "      <th>4</th>\n",
       "      <td>3112</td>\n",
       "      <td>City</td>\n",
       "      <td>1.0</td>\n",
       "      <td>Trip Completed</td>\n",
       "      <td>13-07-2016 08:33:16</td>\n",
       "      <td>13-07-2016 09:25:47</td>\n",
       "      <td>2016-07-13 08:33:16</td>\n",
       "      <td>2016-07-13 09:25:47</td>\n",
       "    </tr>\n",
       "  </tbody>\n",
       "</table>\n",
       "</div>"
      ],
      "text/plain": [
       "   Request_id Pickup_point  Driver_id          Status    Request_timestamp  \\\n",
       "0         619      Airport        1.0  Trip Completed      11/7/2016 11:51   \n",
       "1         867      Airport        1.0  Trip Completed      11/7/2016 17:57   \n",
       "2        1807         City        1.0  Trip Completed       12/7/2016 9:17   \n",
       "3        2532      Airport        1.0  Trip Completed      12/7/2016 21:08   \n",
       "4        3112         City        1.0  Trip Completed  13-07-2016 08:33:16   \n",
       "\n",
       "        Drop_timestamp   request_date_time      drop_date_time  \n",
       "0      11/7/2016 13:00 2016-07-11 11:51:00 2016-07-11 13:00:00  \n",
       "1      11/7/2016 18:47 2016-07-11 17:57:00 2016-07-11 18:47:00  \n",
       "2       12/7/2016 9:58 2016-07-12 09:17:00 2016-07-12 09:58:00  \n",
       "3      12/7/2016 22:03 2016-07-12 21:08:00 2016-07-12 22:03:00  \n",
       "4  13-07-2016 09:25:47 2016-07-13 08:33:16 2016-07-13 09:25:47  "
      ]
     },
     "execution_count": 11,
     "metadata": {},
     "output_type": "execute_result"
    }
   ],
   "source": [
    "df['request_date_time'] = pd.to_datetime(df['Request_timestamp'],dayfirst=True)\n",
    "df['drop_date_time']= pd.to_datetime(df['Drop_timestamp'],dayfirst=True)\n",
    "df.head()"
   ]
  },
  {
   "cell_type": "code",
   "execution_count": 12,
   "id": "d51a29c9",
   "metadata": {},
   "outputs": [
    {
     "name": "stdout",
     "output_type": "stream",
     "text": [
      "<class 'pandas.core.frame.DataFrame'>\n",
      "RangeIndex: 6745 entries, 0 to 6744\n",
      "Data columns (total 8 columns):\n",
      " #   Column             Non-Null Count  Dtype         \n",
      "---  ------             --------------  -----         \n",
      " 0   Request_id         6745 non-null   int64         \n",
      " 1   Pickup_point       6745 non-null   object        \n",
      " 2   Driver_id          4095 non-null   float64       \n",
      " 3   Status             6745 non-null   object        \n",
      " 4   Request_timestamp  6745 non-null   object        \n",
      " 5   Drop_timestamp     2831 non-null   object        \n",
      " 6   request_date_time  6745 non-null   datetime64[ns]\n",
      " 7   drop_date_time     2831 non-null   datetime64[ns]\n",
      "dtypes: datetime64[ns](2), float64(1), int64(1), object(4)\n",
      "memory usage: 421.7+ KB\n"
     ]
    }
   ],
   "source": [
    "#checking if datetime cols are converted to daytime or not\n",
    "df.info()"
   ]
  },
  {
   "cell_type": "code",
   "execution_count": 13,
   "id": "e8a5e130",
   "metadata": {},
   "outputs": [
    {
     "data": {
      "text/html": [
       "<div>\n",
       "<style scoped>\n",
       "    .dataframe tbody tr th:only-of-type {\n",
       "        vertical-align: middle;\n",
       "    }\n",
       "\n",
       "    .dataframe tbody tr th {\n",
       "        vertical-align: top;\n",
       "    }\n",
       "\n",
       "    .dataframe thead th {\n",
       "        text-align: right;\n",
       "    }\n",
       "</style>\n",
       "<table border=\"1\" class=\"dataframe\">\n",
       "  <thead>\n",
       "    <tr style=\"text-align: right;\">\n",
       "      <th></th>\n",
       "      <th>Request_id</th>\n",
       "      <th>Pickup_point</th>\n",
       "      <th>Driver_id</th>\n",
       "      <th>Status</th>\n",
       "      <th>request_date_time</th>\n",
       "      <th>drop_date_time</th>\n",
       "    </tr>\n",
       "  </thead>\n",
       "  <tbody>\n",
       "    <tr>\n",
       "      <th>0</th>\n",
       "      <td>619</td>\n",
       "      <td>Airport</td>\n",
       "      <td>1.0</td>\n",
       "      <td>Trip Completed</td>\n",
       "      <td>2016-07-11 11:51:00</td>\n",
       "      <td>2016-07-11 13:00:00</td>\n",
       "    </tr>\n",
       "    <tr>\n",
       "      <th>1</th>\n",
       "      <td>867</td>\n",
       "      <td>Airport</td>\n",
       "      <td>1.0</td>\n",
       "      <td>Trip Completed</td>\n",
       "      <td>2016-07-11 17:57:00</td>\n",
       "      <td>2016-07-11 18:47:00</td>\n",
       "    </tr>\n",
       "    <tr>\n",
       "      <th>2</th>\n",
       "      <td>1807</td>\n",
       "      <td>City</td>\n",
       "      <td>1.0</td>\n",
       "      <td>Trip Completed</td>\n",
       "      <td>2016-07-12 09:17:00</td>\n",
       "      <td>2016-07-12 09:58:00</td>\n",
       "    </tr>\n",
       "    <tr>\n",
       "      <th>3</th>\n",
       "      <td>2532</td>\n",
       "      <td>Airport</td>\n",
       "      <td>1.0</td>\n",
       "      <td>Trip Completed</td>\n",
       "      <td>2016-07-12 21:08:00</td>\n",
       "      <td>2016-07-12 22:03:00</td>\n",
       "    </tr>\n",
       "    <tr>\n",
       "      <th>4</th>\n",
       "      <td>3112</td>\n",
       "      <td>City</td>\n",
       "      <td>1.0</td>\n",
       "      <td>Trip Completed</td>\n",
       "      <td>2016-07-13 08:33:16</td>\n",
       "      <td>2016-07-13 09:25:47</td>\n",
       "    </tr>\n",
       "  </tbody>\n",
       "</table>\n",
       "</div>"
      ],
      "text/plain": [
       "   Request_id Pickup_point  Driver_id          Status   request_date_time  \\\n",
       "0         619      Airport        1.0  Trip Completed 2016-07-11 11:51:00   \n",
       "1         867      Airport        1.0  Trip Completed 2016-07-11 17:57:00   \n",
       "2        1807         City        1.0  Trip Completed 2016-07-12 09:17:00   \n",
       "3        2532      Airport        1.0  Trip Completed 2016-07-12 21:08:00   \n",
       "4        3112         City        1.0  Trip Completed 2016-07-13 08:33:16   \n",
       "\n",
       "       drop_date_time  \n",
       "0 2016-07-11 13:00:00  \n",
       "1 2016-07-11 18:47:00  \n",
       "2 2016-07-12 09:58:00  \n",
       "3 2016-07-12 22:03:00  \n",
       "4 2016-07-13 09:25:47  "
      ]
     },
     "execution_count": 13,
     "metadata": {},
     "output_type": "execute_result"
    }
   ],
   "source": [
    "#no need of request_timestamp and drop_timestamp so droping them \n",
    "df = df.drop('Request_timestamp',axis=1)\n",
    "df = df.drop('Drop_timestamp',axis=1)\n",
    "df.head()"
   ]
  },
  {
   "cell_type": "code",
   "execution_count": 14,
   "id": "70bcfaf5",
   "metadata": {},
   "outputs": [
    {
     "name": "stdout",
     "output_type": "stream",
     "text": [
      "(6745, 6)\n",
      "<class 'pandas.core.frame.DataFrame'>\n",
      "RangeIndex: 6745 entries, 0 to 6744\n",
      "Data columns (total 6 columns):\n",
      " #   Column             Non-Null Count  Dtype         \n",
      "---  ------             --------------  -----         \n",
      " 0   Request_id         6745 non-null   int64         \n",
      " 1   Pickup_point       6745 non-null   object        \n",
      " 2   Driver_id          4095 non-null   float64       \n",
      " 3   Status             6745 non-null   object        \n",
      " 4   request_date_time  6745 non-null   datetime64[ns]\n",
      " 5   drop_date_time     2831 non-null   datetime64[ns]\n",
      "dtypes: datetime64[ns](2), float64(1), int64(1), object(2)\n",
      "memory usage: 316.3+ KB\n",
      "None\n"
     ]
    }
   ],
   "source": [
    "print(df.shape)\n",
    "print(df.info())"
   ]
  },
  {
   "cell_type": "code",
   "execution_count": 15,
   "id": "406d3d69",
   "metadata": {},
   "outputs": [
    {
     "data": {
      "text/plain": [
       "0"
      ]
     },
     "execution_count": 15,
     "metadata": {},
     "output_type": "execute_result"
    }
   ],
   "source": [
    "df['request_date_time'].isna().sum()#checking nan value in request_date_time col"
   ]
  },
  {
   "cell_type": "code",
   "execution_count": 16,
   "id": "932149e0",
   "metadata": {},
   "outputs": [
    {
     "data": {
      "text/html": [
       "<div>\n",
       "<style scoped>\n",
       "    .dataframe tbody tr th:only-of-type {\n",
       "        vertical-align: middle;\n",
       "    }\n",
       "\n",
       "    .dataframe tbody tr th {\n",
       "        vertical-align: top;\n",
       "    }\n",
       "\n",
       "    .dataframe thead th {\n",
       "        text-align: right;\n",
       "    }\n",
       "</style>\n",
       "<table border=\"1\" class=\"dataframe\">\n",
       "  <thead>\n",
       "    <tr style=\"text-align: right;\">\n",
       "      <th></th>\n",
       "      <th>Request_id</th>\n",
       "      <th>Pickup_point</th>\n",
       "      <th>Driver_id</th>\n",
       "      <th>Status</th>\n",
       "      <th>request_date_time</th>\n",
       "      <th>drop_date_time</th>\n",
       "      <th>request_date</th>\n",
       "      <th>request_time</th>\n",
       "    </tr>\n",
       "  </thead>\n",
       "  <tbody>\n",
       "    <tr>\n",
       "      <th>6145</th>\n",
       "      <td>5333</td>\n",
       "      <td>Airport</td>\n",
       "      <td>NaN</td>\n",
       "      <td>No Cars Available</td>\n",
       "      <td>2016-07-14 22:22:35</td>\n",
       "      <td>NaT</td>\n",
       "      <td>2016-07-14</td>\n",
       "      <td>NaT</td>\n",
       "    </tr>\n",
       "    <tr>\n",
       "      <th>4709</th>\n",
       "      <td>1792</td>\n",
       "      <td>City</td>\n",
       "      <td>NaN</td>\n",
       "      <td>No Cars Available</td>\n",
       "      <td>2016-07-12 09:10:00</td>\n",
       "      <td>NaT</td>\n",
       "      <td>2016-07-12</td>\n",
       "      <td>NaT</td>\n",
       "    </tr>\n",
       "    <tr>\n",
       "      <th>3092</th>\n",
       "      <td>2931</td>\n",
       "      <td>City</td>\n",
       "      <td>66.0</td>\n",
       "      <td>Cancelled</td>\n",
       "      <td>2016-07-13 06:31:03</td>\n",
       "      <td>NaT</td>\n",
       "      <td>2016-07-13</td>\n",
       "      <td>NaT</td>\n",
       "    </tr>\n",
       "    <tr>\n",
       "      <th>5571</th>\n",
       "      <td>3961</td>\n",
       "      <td>City</td>\n",
       "      <td>NaN</td>\n",
       "      <td>No Cars Available</td>\n",
       "      <td>2016-07-13 22:50:57</td>\n",
       "      <td>NaT</td>\n",
       "      <td>2016-07-13</td>\n",
       "      <td>NaT</td>\n",
       "    </tr>\n",
       "    <tr>\n",
       "      <th>6375</th>\n",
       "      <td>6075</td>\n",
       "      <td>City</td>\n",
       "      <td>NaN</td>\n",
       "      <td>No Cars Available</td>\n",
       "      <td>2016-07-15 14:10:43</td>\n",
       "      <td>NaT</td>\n",
       "      <td>2016-07-15</td>\n",
       "      <td>NaT</td>\n",
       "    </tr>\n",
       "  </tbody>\n",
       "</table>\n",
       "</div>"
      ],
      "text/plain": [
       "      Request_id Pickup_point  Driver_id             Status  \\\n",
       "6145        5333      Airport        NaN  No Cars Available   \n",
       "4709        1792         City        NaN  No Cars Available   \n",
       "3092        2931         City       66.0          Cancelled   \n",
       "5571        3961         City        NaN  No Cars Available   \n",
       "6375        6075         City        NaN  No Cars Available   \n",
       "\n",
       "       request_date_time drop_date_time request_date request_time  \n",
       "6145 2016-07-14 22:22:35            NaT   2016-07-14          NaT  \n",
       "4709 2016-07-12 09:10:00            NaT   2016-07-12          NaT  \n",
       "3092 2016-07-13 06:31:03            NaT   2016-07-13          NaT  \n",
       "5571 2016-07-13 22:50:57            NaT   2016-07-13          NaT  \n",
       "6375 2016-07-15 14:10:43            NaT   2016-07-15          NaT  "
      ]
     },
     "execution_count": 16,
     "metadata": {},
     "output_type": "execute_result"
    }
   ],
   "source": [
    "#exracting date and time from requestime col \n",
    "df['request_date'] = df['request_date_time'].dt.date\n",
    "df['request_time'] = df['drop_date_time'].dt.time\n",
    "df.sample(5)"
   ]
  },
  {
   "cell_type": "code",
   "execution_count": 17,
   "id": "9f4cf168",
   "metadata": {},
   "outputs": [],
   "source": [
    "# df['request_dayofweek'\n",
    "# ].fillna(\"NaT\",inplace = True)"
   ]
  },
  {
   "cell_type": "code",
   "execution_count": 18,
   "id": "745a71fc",
   "metadata": {},
   "outputs": [],
   "source": [
    "#extraction day_of_week from request_date\n",
    "df['request_dayofweek'] = df['request_date_time'].dt.day_name()\n",
    "                                    "
   ]
  },
  {
   "cell_type": "code",
   "execution_count": 19,
   "id": "6a09fccd",
   "metadata": {},
   "outputs": [
    {
     "data": {
      "text/html": [
       "<div>\n",
       "<style scoped>\n",
       "    .dataframe tbody tr th:only-of-type {\n",
       "        vertical-align: middle;\n",
       "    }\n",
       "\n",
       "    .dataframe tbody tr th {\n",
       "        vertical-align: top;\n",
       "    }\n",
       "\n",
       "    .dataframe thead th {\n",
       "        text-align: right;\n",
       "    }\n",
       "</style>\n",
       "<table border=\"1\" class=\"dataframe\">\n",
       "  <thead>\n",
       "    <tr style=\"text-align: right;\">\n",
       "      <th></th>\n",
       "      <th>Request_id</th>\n",
       "      <th>Pickup_point</th>\n",
       "      <th>Driver_id</th>\n",
       "      <th>Status</th>\n",
       "      <th>request_date_time</th>\n",
       "      <th>drop_date_time</th>\n",
       "      <th>request_date</th>\n",
       "      <th>request_time</th>\n",
       "      <th>request_dayofweek</th>\n",
       "    </tr>\n",
       "  </thead>\n",
       "  <tbody>\n",
       "    <tr>\n",
       "      <th>0</th>\n",
       "      <td>619</td>\n",
       "      <td>Airport</td>\n",
       "      <td>1.0</td>\n",
       "      <td>Trip Completed</td>\n",
       "      <td>2016-07-11 11:51:00</td>\n",
       "      <td>2016-07-11 13:00:00</td>\n",
       "      <td>2016-07-11</td>\n",
       "      <td>13:00:00</td>\n",
       "      <td>Monday</td>\n",
       "    </tr>\n",
       "    <tr>\n",
       "      <th>1</th>\n",
       "      <td>867</td>\n",
       "      <td>Airport</td>\n",
       "      <td>1.0</td>\n",
       "      <td>Trip Completed</td>\n",
       "      <td>2016-07-11 17:57:00</td>\n",
       "      <td>2016-07-11 18:47:00</td>\n",
       "      <td>2016-07-11</td>\n",
       "      <td>18:47:00</td>\n",
       "      <td>Monday</td>\n",
       "    </tr>\n",
       "    <tr>\n",
       "      <th>2</th>\n",
       "      <td>1807</td>\n",
       "      <td>City</td>\n",
       "      <td>1.0</td>\n",
       "      <td>Trip Completed</td>\n",
       "      <td>2016-07-12 09:17:00</td>\n",
       "      <td>2016-07-12 09:58:00</td>\n",
       "      <td>2016-07-12</td>\n",
       "      <td>09:58:00</td>\n",
       "      <td>Tuesday</td>\n",
       "    </tr>\n",
       "    <tr>\n",
       "      <th>3</th>\n",
       "      <td>2532</td>\n",
       "      <td>Airport</td>\n",
       "      <td>1.0</td>\n",
       "      <td>Trip Completed</td>\n",
       "      <td>2016-07-12 21:08:00</td>\n",
       "      <td>2016-07-12 22:03:00</td>\n",
       "      <td>2016-07-12</td>\n",
       "      <td>22:03:00</td>\n",
       "      <td>Tuesday</td>\n",
       "    </tr>\n",
       "    <tr>\n",
       "      <th>4</th>\n",
       "      <td>3112</td>\n",
       "      <td>City</td>\n",
       "      <td>1.0</td>\n",
       "      <td>Trip Completed</td>\n",
       "      <td>2016-07-13 08:33:16</td>\n",
       "      <td>2016-07-13 09:25:47</td>\n",
       "      <td>2016-07-13</td>\n",
       "      <td>09:25:47</td>\n",
       "      <td>Wednesday</td>\n",
       "    </tr>\n",
       "  </tbody>\n",
       "</table>\n",
       "</div>"
      ],
      "text/plain": [
       "   Request_id Pickup_point  Driver_id          Status   request_date_time  \\\n",
       "0         619      Airport        1.0  Trip Completed 2016-07-11 11:51:00   \n",
       "1         867      Airport        1.0  Trip Completed 2016-07-11 17:57:00   \n",
       "2        1807         City        1.0  Trip Completed 2016-07-12 09:17:00   \n",
       "3        2532      Airport        1.0  Trip Completed 2016-07-12 21:08:00   \n",
       "4        3112         City        1.0  Trip Completed 2016-07-13 08:33:16   \n",
       "\n",
       "       drop_date_time request_date request_time request_dayofweek  \n",
       "0 2016-07-11 13:00:00   2016-07-11     13:00:00            Monday  \n",
       "1 2016-07-11 18:47:00   2016-07-11     18:47:00            Monday  \n",
       "2 2016-07-12 09:58:00   2016-07-12     09:58:00           Tuesday  \n",
       "3 2016-07-12 22:03:00   2016-07-12     22:03:00           Tuesday  \n",
       "4 2016-07-13 09:25:47   2016-07-13     09:25:47         Wednesday  "
      ]
     },
     "execution_count": 19,
     "metadata": {},
     "output_type": "execute_result"
    }
   ],
   "source": [
    "df.head()"
   ]
  },
  {
   "cell_type": "code",
   "execution_count": 20,
   "id": "0f916cdb",
   "metadata": {},
   "outputs": [],
   "source": [
    "df['request_time'\n",
    "].fillna(\"NaT\",inplace = True)"
   ]
  },
  {
   "cell_type": "code",
   "execution_count": 21,
   "id": "73df9cd1",
   "metadata": {},
   "outputs": [
    {
     "data": {
      "text/plain": [
       "0"
      ]
     },
     "execution_count": 21,
     "metadata": {},
     "output_type": "execute_result"
    }
   ],
   "source": [
    "df['request_time'].isna().sum()"
   ]
  },
  {
   "cell_type": "code",
   "execution_count": 22,
   "id": "54cdc0da",
   "metadata": {},
   "outputs": [],
   "source": [
    "#extracting hours from drop_date_time\n",
    "df['request_hours'] = df['request_date_time'].dt.hour"
   ]
  },
  {
   "cell_type": "code",
   "execution_count": 23,
   "id": "3fcacced",
   "metadata": {},
   "outputs": [
    {
     "data": {
      "text/plain": [
       "Request_id              0\n",
       "Pickup_point            0\n",
       "Driver_id            2650\n",
       "Status                  0\n",
       "request_date_time       0\n",
       "drop_date_time       3914\n",
       "request_date            0\n",
       "request_time            0\n",
       "request_dayofweek       0\n",
       "request_hours           0\n",
       "dtype: int64"
      ]
     },
     "execution_count": 23,
     "metadata": {},
     "output_type": "execute_result"
    }
   ],
   "source": [
    "df.head()\n",
    "df.isna().sum()"
   ]
  },
  {
   "cell_type": "code",
   "execution_count": 24,
   "id": "5267f45c",
   "metadata": {},
   "outputs": [],
   "source": [
    "#creating slot of request_hour\n",
    "df.loc[df['request_hours'].between(0,3,inclusive = True),'request_timeslot'] = 'Late Night'\n",
    "df.loc[df['request_hours'].between(4,6,inclusive= True),'request_timeslot'] = 'Early Morning'\n",
    "df.loc[df['request_hours'].between(7,12,inclusive= True),'request_timeslot'] = 'Morning'\n",
    "df.loc[df['request_hours'].between(13,17,inclusive= True),'request_timeslot'] = 'Afertnoon'\n",
    "df.loc[df['request_hours'].between(18,20,inclusive= True),'request_timeslot'] = 'Evening'\n",
    "df.loc[df['request_hours'].between(21,24,inclusive= True),'request_timeslot'] = 'Night'"
   ]
  },
  {
   "cell_type": "code",
   "execution_count": 25,
   "id": "08bc601e",
   "metadata": {},
   "outputs": [],
   "source": [
    "# data perpartion extracting date and time from drop_date_time\n",
    "df['drop_date'] = df['drop_date_time'].dt.date\n",
    "df['drop_time'] =  df['drop_date_time'].dt.time"
   ]
  },
  {
   "cell_type": "code",
   "execution_count": 26,
   "id": "fe5aa1a0",
   "metadata": {},
   "outputs": [
    {
     "data": {
      "text/html": [
       "<div>\n",
       "<style scoped>\n",
       "    .dataframe tbody tr th:only-of-type {\n",
       "        vertical-align: middle;\n",
       "    }\n",
       "\n",
       "    .dataframe tbody tr th {\n",
       "        vertical-align: top;\n",
       "    }\n",
       "\n",
       "    .dataframe thead th {\n",
       "        text-align: right;\n",
       "    }\n",
       "</style>\n",
       "<table border=\"1\" class=\"dataframe\">\n",
       "  <thead>\n",
       "    <tr style=\"text-align: right;\">\n",
       "      <th></th>\n",
       "      <th>Request_id</th>\n",
       "      <th>Pickup_point</th>\n",
       "      <th>Driver_id</th>\n",
       "      <th>Status</th>\n",
       "      <th>request_date_time</th>\n",
       "      <th>drop_date_time</th>\n",
       "      <th>request_date</th>\n",
       "      <th>request_time</th>\n",
       "      <th>request_dayofweek</th>\n",
       "      <th>request_hours</th>\n",
       "      <th>request_timeslot</th>\n",
       "      <th>drop_date</th>\n",
       "      <th>drop_time</th>\n",
       "    </tr>\n",
       "  </thead>\n",
       "  <tbody>\n",
       "    <tr>\n",
       "      <th>5181</th>\n",
       "      <td>2892</td>\n",
       "      <td>City</td>\n",
       "      <td>NaN</td>\n",
       "      <td>No Cars Available</td>\n",
       "      <td>2016-07-13 05:55:54</td>\n",
       "      <td>NaT</td>\n",
       "      <td>2016-07-13</td>\n",
       "      <td>NaT</td>\n",
       "      <td>Wednesday</td>\n",
       "      <td>5</td>\n",
       "      <td>Early Morning</td>\n",
       "      <td>NaT</td>\n",
       "      <td>NaT</td>\n",
       "    </tr>\n",
       "    <tr>\n",
       "      <th>1153</th>\n",
       "      <td>1184</td>\n",
       "      <td>City</td>\n",
       "      <td>120.0</td>\n",
       "      <td>Trip Completed</td>\n",
       "      <td>2016-07-11 21:01:00</td>\n",
       "      <td>2016-07-11 22:11:00</td>\n",
       "      <td>2016-07-11</td>\n",
       "      <td>22:11:00</td>\n",
       "      <td>Monday</td>\n",
       "      <td>21</td>\n",
       "      <td>Night</td>\n",
       "      <td>2016-07-11</td>\n",
       "      <td>22:11:00</td>\n",
       "    </tr>\n",
       "    <tr>\n",
       "      <th>381</th>\n",
       "      <td>5757</td>\n",
       "      <td>City</td>\n",
       "      <td>38.0</td>\n",
       "      <td>Trip Completed</td>\n",
       "      <td>2016-07-15 08:12:21</td>\n",
       "      <td>2016-07-15 09:17:55</td>\n",
       "      <td>2016-07-15</td>\n",
       "      <td>09:17:55</td>\n",
       "      <td>Friday</td>\n",
       "      <td>8</td>\n",
       "      <td>Morning</td>\n",
       "      <td>2016-07-15</td>\n",
       "      <td>09:17:55</td>\n",
       "    </tr>\n",
       "    <tr>\n",
       "      <th>3326</th>\n",
       "      <td>3849</td>\n",
       "      <td>City</td>\n",
       "      <td>121.0</td>\n",
       "      <td>Cancelled</td>\n",
       "      <td>2016-07-13 21:36:47</td>\n",
       "      <td>NaT</td>\n",
       "      <td>2016-07-13</td>\n",
       "      <td>NaT</td>\n",
       "      <td>Wednesday</td>\n",
       "      <td>21</td>\n",
       "      <td>Night</td>\n",
       "      <td>NaT</td>\n",
       "      <td>NaT</td>\n",
       "    </tr>\n",
       "    <tr>\n",
       "      <th>3167</th>\n",
       "      <td>6209</td>\n",
       "      <td>Airport</td>\n",
       "      <td>83.0</td>\n",
       "      <td>Cancelled</td>\n",
       "      <td>2016-07-15 17:32:54</td>\n",
       "      <td>NaT</td>\n",
       "      <td>2016-07-15</td>\n",
       "      <td>NaT</td>\n",
       "      <td>Friday</td>\n",
       "      <td>17</td>\n",
       "      <td>Afertnoon</td>\n",
       "      <td>NaT</td>\n",
       "      <td>NaT</td>\n",
       "    </tr>\n",
       "  </tbody>\n",
       "</table>\n",
       "</div>"
      ],
      "text/plain": [
       "      Request_id Pickup_point  Driver_id             Status  \\\n",
       "5181        2892         City        NaN  No Cars Available   \n",
       "1153        1184         City      120.0     Trip Completed   \n",
       "381         5757         City       38.0     Trip Completed   \n",
       "3326        3849         City      121.0          Cancelled   \n",
       "3167        6209      Airport       83.0          Cancelled   \n",
       "\n",
       "       request_date_time      drop_date_time request_date request_time  \\\n",
       "5181 2016-07-13 05:55:54                 NaT   2016-07-13          NaT   \n",
       "1153 2016-07-11 21:01:00 2016-07-11 22:11:00   2016-07-11     22:11:00   \n",
       "381  2016-07-15 08:12:21 2016-07-15 09:17:55   2016-07-15     09:17:55   \n",
       "3326 2016-07-13 21:36:47                 NaT   2016-07-13          NaT   \n",
       "3167 2016-07-15 17:32:54                 NaT   2016-07-15          NaT   \n",
       "\n",
       "     request_dayofweek  request_hours request_timeslot   drop_date drop_time  \n",
       "5181         Wednesday              5    Early Morning         NaT       NaT  \n",
       "1153            Monday             21            Night  2016-07-11  22:11:00  \n",
       "381             Friday              8          Morning  2016-07-15  09:17:55  \n",
       "3326         Wednesday             21            Night         NaT       NaT  \n",
       "3167            Friday             17        Afertnoon         NaT       NaT  "
      ]
     },
     "execution_count": 26,
     "metadata": {},
     "output_type": "execute_result"
    }
   ],
   "source": [
    "df.sample(5)"
   ]
  },
  {
   "cell_type": "markdown",
   "id": "864001b1",
   "metadata": {},
   "source": [
    "## Data Analysis"
   ]
  },
  {
   "cell_type": "code",
   "execution_count": 27,
   "id": "47c437bd",
   "metadata": {},
   "outputs": [
    {
     "data": {
      "image/png": "[encoded data removed]",
      "text/plain": [
       "<Figure size 432x288 with 1 Axes>"
      ]
     },
     "metadata": {},
     "output_type": "display_data"
    }
   ],
   "source": [
    "# getting insight from pickup_point\n",
    "sns.set(style = 'darkgrid')\n",
    "ax = sns.countplot(x = \"Pickup_point\",data = df)\n",
    "for p in ax.patches:\n",
    "    value = p.get_height()\n",
    "    x  = p.get_x()+ p.get_width()/2\n",
    "    y = p.get_height()+50\n",
    "    ax.text(x,y,value,ha=\"center\")\n",
    "plt.show()"
   ]
  },
  {
   "cell_type": "code",
   "execution_count": 28,
   "id": "fcb875b1",
   "metadata": {},
   "outputs": [
    {
     "data": {
      "image/png": "[encoded data removed]",
      "text/plain": [
       "<Figure size 720x432 with 1 Axes>"
      ]
     },
     "metadata": {},
     "output_type": "display_data"
    }
   ],
   "source": [
    "plt.figure(figsize =(10,6))\n",
    "ax = sns.countplot(x = \"Status\",data=df)\n",
    "total = len(df)\n",
    "for p in ax.patches:\n",
    "    value = round((p.get_height()/total)*100,2)\n",
    "    x = p.get_x()+0.4\n",
    "    y = p.get_height()+50\n",
    "    ax.text(x,y,'{:}%'.format(value),ha=\"center\")\n",
    "plt.show()\n",
    "\n",
    "# #looking for insight in status\n",
    "# plt.figure(figsize=(10, 8))\n",
    "# ax =sns.countplot(x=\"Status\", data=df)\n",
    "# total = len(df)\n",
    "# for p in ax.patches:\n",
    "#     value = round((p.get_height()/total)*100,2)\n",
    "#     X = p.get_x()+0.4\n",
    "#     Y = p.get_height()+50\n",
    "#     ax.text(X, Y,'{:} %'.format(value), ha=\"center\")\n",
    "# plt.show()\n",
    "\n"
   ]
  },
  {
   "cell_type": "code",
   "execution_count": 29,
   "id": "f2b35d86",
   "metadata": {},
   "outputs": [],
   "source": [
    "#looking to find request count and days_of_week"
   ]
  },
  {
   "cell_type": "code",
   "execution_count": 30,
   "id": "4f90c866",
   "metadata": {},
   "outputs": [
    {
     "data": {
      "image/png": "[encoded data removed]",
      "text/plain": [
       "<Figure size 864x432 with 1 Axes>"
      ]
     },
     "metadata": {},
     "output_type": "display_data"
    }
   ],
   "source": [
    "plt.figure(num =None,figsize=(12,6),facecolor='w',edgecolor = 'k')\n",
    "ax = sns.countplot(x='request_dayofweek',data = df)\n",
    "for p in ax.patches:\n",
    "    value = p.get_height()\n",
    "    X = p.get_x()+0.4\n",
    "    Y = p.get_height()+20\n",
    "    ax.text(X,Y,value,ha = \"center\")\n",
    "plt.show()\n",
    "\n",
    "\n"
   ]
  },
  {
   "cell_type": "code",
   "execution_count": 31,
   "id": "fc2ab51c",
   "metadata": {},
   "outputs": [
    {
     "data": {
      "image/png": "[encoded data removed]",
      "text/plain": [
       "<Figure size 864x576 with 1 Axes>"
      ]
     },
     "metadata": {},
     "output_type": "display_data"
    }
   ],
   "source": [
    "plt.figure(figsize =(12,8),num=None,facecolor='w',edgecolor='k')\n",
    "sns.countplot(x ='request_hours',data = df)\n",
    "plt.show()"
   ]
  },
  {
   "cell_type": "code",
   "execution_count": 32,
   "id": "61545a1c",
   "metadata": {},
   "outputs": [
    {
     "data": {
      "image/png": "[encoded data removed]",
      "text/plain": [
       "<Figure size 1440x1440 with 1 Axes>"
      ]
     },
     "metadata": {},
     "output_type": "display_data"
    }
   ],
   "source": [
    "#checking high rates from 5am to 9am and 5pm to 9pm is consistent\n",
    "plt.figure(figsize=(20,20),facecolor='w',edgecolor='b')\n",
    "sns.countplot(y='request_date',hue='request_hours',data= df)\n",
    "plt.show()"
   ]
  },
  {
   "cell_type": "code",
   "execution_count": 33,
   "id": "6404315f",
   "metadata": {},
   "outputs": [],
   "source": [
    "#show all data have high request is around same time"
   ]
  },
  {
   "cell_type": "code",
   "execution_count": 34,
   "id": "c82357a4",
   "metadata": {},
   "outputs": [],
   "source": [
    "#looking insight in requesttime-slot"
   ]
  },
  {
   "cell_type": "code",
   "execution_count": 35,
   "id": "b87eff7b",
   "metadata": {},
   "outputs": [
    {
     "data": {
      "image/png": "[encoded data removed]",
      "text/plain": [
       "<Figure size 864x576 with 1 Axes>"
      ]
     },
     "metadata": {},
     "output_type": "display_data"
    }
   ],
   "source": [
    "plt.figure(num = None,figsize=(12,8),facecolor ='w',edgecolor='k')\n",
    "ax = sns.countplot(x='request_timeslot',data=df)\n",
    "total = len(df)\n",
    "for p in ax.patches:\n",
    "    value = round((p.get_height()/total)*100,2)\n",
    "    X =p.get_x()+0.4\n",
    "    Y = p.get_height()+25\n",
    "    ax.text(X,Y,'{:} %'.format(value),ha='center')\n",
    "plt.show()"
   ]
  },
  {
   "cell_type": "markdown",
   "id": "c709a335",
   "metadata": {},
   "source": [
    "observation so far:\n",
    "1.Only 41.97% request is completed from airport and city \n",
    "2.High request rate are in morning and evening"
   ]
  },
  {
   "cell_type": "code",
   "execution_count": 36,
   "id": "a9130b7c",
   "metadata": {},
   "outputs": [],
   "source": [
    "#segmentation pickup point over status"
   ]
  },
  {
   "cell_type": "code",
   "execution_count": 37,
   "id": "4e32a100",
   "metadata": {},
   "outputs": [
    {
     "data": {
      "image/png": "[encoded data removed]",
      "text/plain": [
       "<Figure size 864x576 with 1 Axes>"
      ]
     },
     "metadata": {},
     "output_type": "display_data"
    }
   ],
   "source": [
    "plt.figure(figsize=(12,8),facecolor = 'w',edgecolor='k')\n",
    "ax = sns.countplot(x='Pickup_point',hue='Status',data=df)\n",
    "total = len(df)\n",
    "for p in ax.patches:\n",
    "    value = round(p.get_height()/total*100,2)\n",
    "    X = p.get_x()+0.2\n",
    "    Y= p.get_height()+20\n",
    "    ax.text(X,Y,'{:}%'.format(value),ha='right')\n",
    "plt.show()"
   ]
  },
  {
   "cell_type": "code",
   "execution_count": 38,
   "id": "da4b0e04",
   "metadata": {},
   "outputs": [
    {
     "data": {
      "image/png": "[encoded data removed]",
      "text/plain": [
       "<Figure size 864x576 with 1 Axes>"
      ]
     },
     "metadata": {},
     "output_type": "display_data"
    }
   ],
   "source": [
    "#segmentation pickup point over timeslot\n",
    "plt.figure(figsize=(12,8),facecolor='w',edgecolor='k')\n",
    "sns.countplot(x = 'Pickup_point',hue ='request_timeslot',data=df)\n",
    "plt.show()"
   ]
  },
  {
   "cell_type": "markdown",
   "id": "0a039cbb",
   "metadata": {},
   "source": [
    "airporty - has the highest request in the eveningcity - has the highest request in the morning\n",
    "From this graph our previous observation of high request rates of morning and evening slot gets clarified."
   ]
  },
  {
   "cell_type": "code",
   "execution_count": 52,
   "id": "b5840a42",
   "metadata": {},
   "outputs": [
    {
     "data": {
      "image/png": "[encoded data removed]",
      "text/plain": [
       "<Figure size 1014.92x432 with 3 Axes>"
      ]
     },
     "metadata": {},
     "output_type": "display_data"
    }
   ],
   "source": [
    "# segmentation the timeslot vs both status and pickup point\n",
    "sns.catplot(x='Pickup_point',col ='Status',hue= 'request_timeslot',data = df,kind='count',height=6,aspect=0.7,ci=85,col_wrap=3,margin_titles=True)\n",
    "plt.show()"
   ]
  },
  {
   "cell_type": "code",
   "execution_count": 40,
   "id": "1651ea56",
   "metadata": {},
   "outputs": [],
   "source": [
    "#From the above plot it is evident that:\n",
    "#airport requests during the evening slot(during which there is high airport request rate)there are no cars available\n",
    "#Most city requests get cancelled in the morning slot(during which there is high city request rate)"
   ]
  },
  {
   "cell_type": "markdown",
   "id": "1ec5a255",
   "metadata": {},
   "source": [
    "Observation so far:\n",
    "The problematic status are cancelled and no cars available as it leads to potential loss of revenue.\n",
    "\n",
    "Airport pickup point has most 'no car available'\n",
    "City pickup point has highest 'Cancelled' status\n",
    "'Airport' - has the hightest request in the 'evening' aligning to our 'no car available' status\n",
    "'City'- has the hightest request in the 'morning' aligning to our 'Cancelled' status"
   ]
  },
  {
   "cell_type": "markdown",
   "id": "e14a57f6",
   "metadata": {},
   "source": [
    "supply and demand gap calculation"
   ]
  },
  {
   "cell_type": "code",
   "execution_count": 67,
   "id": "256513ec",
   "metadata": {},
   "outputs": [],
   "source": [
    "#creating demand column\n",
    "df.loc[(df.Status== 'Trip Completed')|(df.Status == 'Cancelled')|(df.Status=='No Cars Availabel'),'demand']='demand'\n"
   ]
  },
  {
   "cell_type": "code",
   "execution_count": 72,
   "id": "ea2e6b79",
   "metadata": {},
   "outputs": [],
   "source": [
    "#creating supply column \n",
    "df.loc[(df.Status == 'Trip Completed'),'Supply']='Supply'"
   ]
  },
  {
   "cell_type": "code",
   "execution_count": 74,
   "id": "02e079a4",
   "metadata": {},
   "outputs": [],
   "source": [
    "#creating gap column\n",
    "df.loc[(df.Status == 'Cancelled')|(df.Status=='No Cars Availabel'),'gap'] ='Gap'"
   ]
  },
  {
   "cell_type": "code",
   "execution_count": 75,
   "id": "e10c1850",
   "metadata": {},
   "outputs": [
    {
     "data": {
      "text/html": [
       "<div>\n",
       "<style scoped>\n",
       "    .dataframe tbody tr th:only-of-type {\n",
       "        vertical-align: middle;\n",
       "    }\n",
       "\n",
       "    .dataframe tbody tr th {\n",
       "        vertical-align: top;\n",
       "    }\n",
       "\n",
       "    .dataframe thead th {\n",
       "        text-align: right;\n",
       "    }\n",
       "</style>\n",
       "<table border=\"1\" class=\"dataframe\">\n",
       "  <thead>\n",
       "    <tr style=\"text-align: right;\">\n",
       "      <th></th>\n",
       "      <th>Request_id</th>\n",
       "      <th>Pickup_point</th>\n",
       "      <th>Driver_id</th>\n",
       "      <th>Status</th>\n",
       "      <th>request_date_time</th>\n",
       "      <th>drop_date_time</th>\n",
       "      <th>request_date</th>\n",
       "      <th>request_time</th>\n",
       "      <th>request_dayofweek</th>\n",
       "      <th>request_hours</th>\n",
       "      <th>request_timeslot</th>\n",
       "      <th>drop_date</th>\n",
       "      <th>drop_time</th>\n",
       "      <th>demand</th>\n",
       "      <th>Supply</th>\n",
       "      <th>gap</th>\n",
       "    </tr>\n",
       "  </thead>\n",
       "  <tbody>\n",
       "    <tr>\n",
       "      <th>0</th>\n",
       "      <td>619</td>\n",
       "      <td>Airport</td>\n",
       "      <td>1.0</td>\n",
       "      <td>Trip Completed</td>\n",
       "      <td>2016-07-11 11:51:00</td>\n",
       "      <td>2016-07-11 13:00:00</td>\n",
       "      <td>2016-07-11</td>\n",
       "      <td>13:00:00</td>\n",
       "      <td>Monday</td>\n",
       "      <td>11</td>\n",
       "      <td>Morning</td>\n",
       "      <td>2016-07-11</td>\n",
       "      <td>13:00:00</td>\n",
       "      <td>demand</td>\n",
       "      <td>Supply</td>\n",
       "      <td>demand</td>\n",
       "    </tr>\n",
       "    <tr>\n",
       "      <th>1</th>\n",
       "      <td>867</td>\n",
       "      <td>Airport</td>\n",
       "      <td>1.0</td>\n",
       "      <td>Trip Completed</td>\n",
       "      <td>2016-07-11 17:57:00</td>\n",
       "      <td>2016-07-11 18:47:00</td>\n",
       "      <td>2016-07-11</td>\n",
       "      <td>18:47:00</td>\n",
       "      <td>Monday</td>\n",
       "      <td>17</td>\n",
       "      <td>Afertnoon</td>\n",
       "      <td>2016-07-11</td>\n",
       "      <td>18:47:00</td>\n",
       "      <td>demand</td>\n",
       "      <td>Supply</td>\n",
       "      <td>demand</td>\n",
       "    </tr>\n",
       "    <tr>\n",
       "      <th>2</th>\n",
       "      <td>1807</td>\n",
       "      <td>City</td>\n",
       "      <td>1.0</td>\n",
       "      <td>Trip Completed</td>\n",
       "      <td>2016-07-12 09:17:00</td>\n",
       "      <td>2016-07-12 09:58:00</td>\n",
       "      <td>2016-07-12</td>\n",
       "      <td>09:58:00</td>\n",
       "      <td>Tuesday</td>\n",
       "      <td>9</td>\n",
       "      <td>Morning</td>\n",
       "      <td>2016-07-12</td>\n",
       "      <td>09:58:00</td>\n",
       "      <td>demand</td>\n",
       "      <td>Supply</td>\n",
       "      <td>demand</td>\n",
       "    </tr>\n",
       "    <tr>\n",
       "      <th>3</th>\n",
       "      <td>2532</td>\n",
       "      <td>Airport</td>\n",
       "      <td>1.0</td>\n",
       "      <td>Trip Completed</td>\n",
       "      <td>2016-07-12 21:08:00</td>\n",
       "      <td>2016-07-12 22:03:00</td>\n",
       "      <td>2016-07-12</td>\n",
       "      <td>22:03:00</td>\n",
       "      <td>Tuesday</td>\n",
       "      <td>21</td>\n",
       "      <td>Night</td>\n",
       "      <td>2016-07-12</td>\n",
       "      <td>22:03:00</td>\n",
       "      <td>demand</td>\n",
       "      <td>Supply</td>\n",
       "      <td>demand</td>\n",
       "    </tr>\n",
       "    <tr>\n",
       "      <th>4</th>\n",
       "      <td>3112</td>\n",
       "      <td>City</td>\n",
       "      <td>1.0</td>\n",
       "      <td>Trip Completed</td>\n",
       "      <td>2016-07-13 08:33:16</td>\n",
       "      <td>2016-07-13 09:25:47</td>\n",
       "      <td>2016-07-13</td>\n",
       "      <td>09:25:47</td>\n",
       "      <td>Wednesday</td>\n",
       "      <td>8</td>\n",
       "      <td>Morning</td>\n",
       "      <td>2016-07-13</td>\n",
       "      <td>09:25:47</td>\n",
       "      <td>demand</td>\n",
       "      <td>Supply</td>\n",
       "      <td>demand</td>\n",
       "    </tr>\n",
       "  </tbody>\n",
       "</table>\n",
       "</div>"
      ],
      "text/plain": [
       "   Request_id Pickup_point  Driver_id          Status   request_date_time  \\\n",
       "0         619      Airport        1.0  Trip Completed 2016-07-11 11:51:00   \n",
       "1         867      Airport        1.0  Trip Completed 2016-07-11 17:57:00   \n",
       "2        1807         City        1.0  Trip Completed 2016-07-12 09:17:00   \n",
       "3        2532      Airport        1.0  Trip Completed 2016-07-12 21:08:00   \n",
       "4        3112         City        1.0  Trip Completed 2016-07-13 08:33:16   \n",
       "\n",
       "       drop_date_time request_date request_time request_dayofweek  \\\n",
       "0 2016-07-11 13:00:00   2016-07-11     13:00:00            Monday   \n",
       "1 2016-07-11 18:47:00   2016-07-11     18:47:00            Monday   \n",
       "2 2016-07-12 09:58:00   2016-07-12     09:58:00           Tuesday   \n",
       "3 2016-07-12 22:03:00   2016-07-12     22:03:00           Tuesday   \n",
       "4 2016-07-13 09:25:47   2016-07-13     09:25:47         Wednesday   \n",
       "\n",
       "   request_hours request_timeslot   drop_date drop_time  demand  Supply  \\\n",
       "0             11          Morning  2016-07-11  13:00:00  demand  Supply   \n",
       "1             17        Afertnoon  2016-07-11  18:47:00  demand  Supply   \n",
       "2              9          Morning  2016-07-12  09:58:00  demand  Supply   \n",
       "3             21            Night  2016-07-12  22:03:00  demand  Supply   \n",
       "4              8          Morning  2016-07-13  09:25:47  demand  Supply   \n",
       "\n",
       "      gap  \n",
       "0  demand  \n",
       "1  demand  \n",
       "2  demand  \n",
       "3  demand  \n",
       "4  demand  "
      ]
     },
     "execution_count": 75,
     "metadata": {},
     "output_type": "execute_result"
    }
   ],
   "source": [
    "df.head()"
   ]
  },
  {
   "cell_type": "code",
   "execution_count": 76,
   "id": "a675976b",
   "metadata": {},
   "outputs": [
    {
     "data": {
      "text/plain": [
       "6745"
      ]
     },
     "execution_count": 76,
     "metadata": {},
     "output_type": "execute_result"
    }
   ],
   "source": [
    "#calculating demand supply and gap count\n",
    "df['demand'].count()"
   ]
  },
  {
   "cell_type": "code",
   "execution_count": 77,
   "id": "6a7601f5",
   "metadata": {},
   "outputs": [
    {
     "data": {
      "text/plain": [
       "2831"
      ]
     },
     "execution_count": 77,
     "metadata": {},
     "output_type": "execute_result"
    }
   ],
   "source": [
    "df['Supply'].count()"
   ]
  },
  {
   "cell_type": "code",
   "execution_count": 80,
   "id": "378a1691",
   "metadata": {},
   "outputs": [
    {
     "data": {
      "text/plain": [
       "6745"
      ]
     },
     "execution_count": 80,
     "metadata": {},
     "output_type": "execute_result"
    }
   ],
   "source": [
    "df['gap'].count()"
   ]
  },
  {
   "cell_type": "code",
   "execution_count": 87,
   "id": "651d3d40",
   "metadata": {},
   "outputs": [
    {
     "data": {
      "text/html": [
       "<div>\n",
       "<style scoped>\n",
       "    .dataframe tbody tr th:only-of-type {\n",
       "        vertical-align: middle;\n",
       "    }\n",
       "\n",
       "    .dataframe tbody tr th {\n",
       "        vertical-align: top;\n",
       "    }\n",
       "\n",
       "    .dataframe thead th {\n",
       "        text-align: right;\n",
       "    }\n",
       "</style>\n",
       "<table border=\"1\" class=\"dataframe\">\n",
       "  <thead>\n",
       "    <tr style=\"text-align: right;\">\n",
       "      <th></th>\n",
       "      <th>demand</th>\n",
       "      <th>Supply</th>\n",
       "      <th>gap</th>\n",
       "    </tr>\n",
       "  </thead>\n",
       "  <tbody>\n",
       "    <tr>\n",
       "      <th>0</th>\n",
       "      <td>demand</td>\n",
       "      <td>Supply</td>\n",
       "      <td>demand</td>\n",
       "    </tr>\n",
       "    <tr>\n",
       "      <th>1</th>\n",
       "      <td>demand</td>\n",
       "      <td>Supply</td>\n",
       "      <td>demand</td>\n",
       "    </tr>\n",
       "    <tr>\n",
       "      <th>2</th>\n",
       "      <td>demand</td>\n",
       "      <td>Supply</td>\n",
       "      <td>demand</td>\n",
       "    </tr>\n",
       "    <tr>\n",
       "      <th>3</th>\n",
       "      <td>demand</td>\n",
       "      <td>Supply</td>\n",
       "      <td>demand</td>\n",
       "    </tr>\n",
       "    <tr>\n",
       "      <th>4</th>\n",
       "      <td>demand</td>\n",
       "      <td>Supply</td>\n",
       "      <td>demand</td>\n",
       "    </tr>\n",
       "  </tbody>\n",
       "</table>\n",
       "</div>"
      ],
      "text/plain": [
       "   demand  Supply     gap\n",
       "0  demand  Supply  demand\n",
       "1  demand  Supply  demand\n",
       "2  demand  Supply  demand\n",
       "3  demand  Supply  demand\n",
       "4  demand  Supply  demand"
      ]
     },
     "execution_count": 87,
     "metadata": {},
     "output_type": "execute_result"
    }
   ],
   "source": [
    "uber_SupplyandDemand = pd.DataFrame([df.demand,df.Supply,df.gap]).transpose()\n",
    "uber_SupplyandDemand.head()"
   ]
  },
  {
   "cell_type": "code",
   "execution_count": 86,
   "id": "4671b492",
   "metadata": {},
   "outputs": [
    {
     "data": {
      "image/png": "[encoded data removed]",
      "text/plain": [
       "<Figure size 576x576 with 1 Axes>"
      ]
     },
     "metadata": {},
     "output_type": "display_data"
    }
   ],
   "source": [
    "#plotting demand supply and gap count\n",
    "plt.figure(num=None,figsize=(8,8),facecolor = 'w',edgecolor = 'k')\n",
    "sns.countplot(x=\"variable\",hue=\"value\",data=pd.melt(uber_SupplyandDemand))\n",
    "plt.show()"
   ]
  },
  {
   "cell_type": "code",
   "execution_count": null,
   "id": "bcd881e5",
   "metadata": {},
   "outputs": [],
   "source": []
  },
  {
   "cell_type": "code",
   "execution_count": null,
   "id": "71cff70c",
   "metadata": {},
   "outputs": [],
   "source": []
  },
  {
   "cell_type": "code",
   "execution_count": null,
   "id": "50259ef8",
   "metadata": {},
   "outputs": [],
   "source": []
  },
  {
   "cell_type": "code",
   "execution_count": null,
   "id": "9fb5c904",
   "metadata": {},
   "outputs": [],
   "source": []
  }
 ],
 "metadata": {
  "kernelspec": {
   "display_name": "Python 3 (ipykernel)",
   "language": "python",
   "name": "python3"
  },
  "language_info": {
   "codemirror_mode": {
    "name": "ipython",
    "version": 3
   },
   "file_extension": ".py",
   "mimetype": "text/x-python",
   "name": "python",
   "nbconvert_exporter": "python",
   "pygments_lexer": "ipython3",
   "version": "3.10.2"
  }
 },
 "nbformat": 4,
 "nbformat_minor": 5
}
